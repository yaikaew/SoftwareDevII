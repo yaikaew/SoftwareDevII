{
 "cells": [
  {
   "cell_type": "code",
   "execution_count": 3,
   "metadata": {},
   "outputs": [
    {
     "name": "stdout",
     "output_type": "stream",
     "text": [
      "010113138 CIRCUITS AND ELECTRONICS 3 \n",
      "010113139 CIRCUITS AND ELECTRONICS LAB 1 \n",
      "010113941 PROJECT I 3 \n",
      "010113942 PROJECT II 3 \n",
      "010123103 ALGORITHMS AND DATA STRUCTUR 3 \n",
      "010123118 COMPUTER NETWORKS 3 \n",
      "010123120 EMBEDDED SYSTEM DESIGN LABOR 1 \n",
      "010123121 DATABASE SYSTEMS 3 \n",
      "010123124 COMPUTER ENGINEERING SEMINAR 2 \n",
      "010123128 COMPUTER NETWORKS LABORATORY 1 \n",
      "010123132 SOFTWARE DEVELOPMENT PRACTIC 3 \n",
      "010123134 COMPUTER ORGANIZATION 3 \n",
      "010123135 LINEAR ALGEBRA 3 \n",
      "010123201 NUMERICAL METHODS FOR COMPUT 3 \n",
      "010123213 ARTIFICIAL INTELLIGENCE 3 \n",
      "010123224 REAL TIME OPERATION SYSTEMS 3 \n",
      "010123301 PRE-COOPERATIVE EDUCATION 2 \n",
      "010123303 CO-OPERATIVE EDUCATION II 3 \n",
      "040203100 GENERAL MATHEMATICS 3 \n",
      "040203111 ENGINEERING MATHEMATICS I 3 \n",
      "040203112 ENGINEERING MATHEMATICS II 3 \n",
      "040313005 PHYSICS I 3 \n",
      "040313007 PHYSICS II 3 \n",
      "040313008 PHYSICS LABORATORY II 1 \n",
      "040503001 STATISTICS IN EVERYDAY LIFE 3 \n",
      "080103002 ENGLISH II 3 \n",
      "080103018 ENGLISH FOR WORK 3 \n",
      "080103034 ENGLISH CONVERSATION 3 \n",
      "080203901 MAN AND SOCIETY 3 \n",
      "080203905 ECONOMY AND EVERYDAY LIFE 3 \n",
      "080203906 ECONOMICS FOR INDIVIDUAL DEV 3 \n",
      "080203907 BUSINESS AND EVERYDAY LIFE 3 \n",
      "080303103 PSYCHOLOGY FOR HAPPY LIFE 3 \n",
      "080303501 BASKETBALL 1 \n",
      "080303502 VOLLEYBALL 1 \n",
      "080303505 TABLE TENNIS 1 \n",
      "080303601 HUMAN RELATIONS 3 \n",
      "080303701 DESIGN THINKING 3 \n"
     ]
    }
   ],
   "source": [
    "from bs4 import BeautifulSoup\n",
    "import re\n",
    "\n",
    "with open(\"data.html\", \"r\",encoding=\"cp874\") as f:\n",
    "    data = f.read()\n",
    "\n",
    "soup = BeautifulSoup(data, 'html.parser')\n",
    "course = soup.find(\"table\" , {\"border\" : \"1\"})\n",
    "sub = course.find_all(\"tr\", {\"bgcolor\": \"#EA98FF\"})\n",
    "\n",
    "pattern = r\"\\(\\d-\\d\\)\"\n",
    "\n",
    "for i in sub :\n",
    "    subject = i.find('b')\n",
    "    for j in subject : \n",
    "        subject_list = re.sub(pattern, \" \" , j) \n",
    "        #subject_list = j.replace(\"(3-0)\" , \" \").replace(\"(1-1)\" , \" \").replace(\"(0-1)\" , \" \").replace(\"(0-3)\" , \" \").replace(\"(2-1)\" , \" \")\n",
    "        print(subject_list)"
   ]
  },
  {
   "cell_type": "code",
   "execution_count": null,
   "metadata": {},
   "outputs": [],
   "source": [
    "from bs4 import BeautifulSoup\n",
    "import re\n",
    "\n",
    "with open(\"data.html\", \"r\", encoding=\"cp874\") as f:\n",
    "    data = f.read()\n",
    "\n",
    "soup = BeautifulSoup(data, 'html.parser')\n",
    "course = soup.find_all(\"table\")[5]\n",
    "sub = course.find_all(\"tr\")\n",
    "\n",
    "for i in range(1, len(sub)):\n",
    "    subject = sub[i].find(\"b\")\n",
    "    if subject is not None:\n",
    "        print(subject.text)\n",
    "    m = sub[i].find(\"tbody\")\n",
    "    sec = sub[i].find(\"td\" ,{ \"valign\" : \"top\", \"width\" : \"7%\"})\n",
    "    if m is not None:\n",
    "        day = m.find(\"td\" , {\"width\" : \"7%\"})\n",
    "    time = sub[i].find(\"td\" , {\"width\" : \"25%\"})\n",
    "    prof = sub[i].find(\"td\" , {\"width\" : \"46%\"})\n",
    "    if sec is not None:\n",
    "        sec = sec.text\n",
    "        if day is not None:\n",
    "            day = day.text\n",
    "            if time is not None:\n",
    "                time = time.text\n",
    "                if prof is not None:\n",
    "                    prof = prof.text\n",
    "                    print (sec ,\"    \", day,\"    \", time,\"    \", prof)"
   ]
  }
 ],
 "metadata": {
  "kernelspec": {
   "display_name": "CPF",
   "language": "python",
   "name": "python3"
  },
  "language_info": {
   "codemirror_mode": {
    "name": "ipython",
    "version": 3
   },
   "file_extension": ".py",
   "mimetype": "text/x-python",
   "name": "python",
   "nbconvert_exporter": "python",
   "pygments_lexer": "ipython3",
   "version": "3.10.10"
  },
  "orig_nbformat": 4
 },
 "nbformat": 4,
 "nbformat_minor": 2
}
