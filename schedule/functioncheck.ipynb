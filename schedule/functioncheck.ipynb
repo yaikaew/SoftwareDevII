{
 "cells": [
  {
   "cell_type": "code",
   "execution_count": null,
   "metadata": {},
   "outputs": [],
   "source": [
    "#function check เรียนไปแล้วหรือยัง (ตาราง subject)\n",
    "from .models import Subjects\n",
    "\n",
    "def check_pass_subject(request, user_id):\n",
    "    data = subjects.objects.filter(UserID = user_id)"
   ]
  },
  {
   "cell_type": "code",
   "execution_count": 3,
   "metadata": {},
   "outputs": [
    {
     "name": "stdout",
     "output_type": "stream",
     "text": [
      "[('10113030',), ('10123102',), ('40203111',), ('40313005',), ('40313006',), ('80103001',), ('80303502',), ('80303601',), ('10113138',), ('10113139',), ('10123103',), ('40003004',), ('40203112',), ('40313007',), ('40313008',), ('80103002',), ('10123105',), ('10123106',), ('10123107',), ('10123108',), ('10123131',), ('10123133',), ('80103034',)]\n"
     ]
    },
    {
     "data": {
      "text/plain": [
       "False"
      ]
     },
     "execution_count": 3,
     "metadata": {},
     "output_type": "execute_result"
    }
   ],
   "source": [
    "#function check เรียนไปแล้วหรือยัง (ตาราง subject)\n",
    "import sqlite3\n",
    "\n",
    "def check_pass_subject(sub_id,u_id):\n",
    "    conn = sqlite3.connect(\"w3.db\")\n",
    "    c = conn.cursor()\n",
    "\n",
    "    #เลือกวิชาทั้งหมดที่มีจาก subjects ของ user คนนั้น\n",
    "    c.execute(\"SELECT real_subject_id FROM subjects WHERE UserID = ?\", (u_id,))\n",
    "    data = c.fetchall()\n",
    "    print(data)\n",
    "\n",
    "    # Close the connections\n",
    "    conn.close()\n",
    "    \n",
    "    for i in data:\n",
    "        if sub_id in i :\n",
    "            return False\n",
    "    else:\n",
    "        return True\n",
    "\n",
    "check_pass_subject(\"80103001\" , \"1\")"
   ]
  },
  {
   "cell_type": "code",
   "execution_count": null,
   "metadata": {},
   "outputs": [],
   "source": [
    "#function check credit ห้ามเกิน 22 \n",
    "from models import Subjects\n",
    "from django.db.models import Sum\n",
    "\n",
    "def check_credit(sub_id):\n",
    "    # get all objects from the database\n",
    "    all_sub = Subjects.objects.all()\n",
    "    #total_credits = Subjects.objects.aggregate(Sum('credit'))['credit__sum']\n",
    "\n",
    "    return all_sub\n"
   ]
  },
  {
   "cell_type": "code",
   "execution_count": 1,
   "metadata": {},
   "outputs": [
    {
     "name": "stdout",
     "output_type": "stream",
     "text": [
      "[('gpa',), ('gpax',), ('subjects',), ('django_migrations',), ('sqlite_sequence',), ('auth_group_permissions',), ('auth_user_groups',), ('auth_user_user_permissions',), ('django_admin_log',), ('app_schedule_subjects_info',), ('app_select_subjects_test_date',), ('app_users_gpa',), ('django_content_type',), ('auth_permission',), ('auth_group',), ('auth_user',), ('django_session',)]\n"
     ]
    }
   ],
   "source": [
    "import sqlite3\n",
    "\n",
    "conn = sqlite3.connect(\"w3.db\")\n",
    "c = conn.cursor()\n",
    "\n",
    "# Get a list of all tables in the database\n",
    "c.execute(\"SELECT name FROM sqlite_master WHERE type='table';\")\n",
    "print(c.fetchall())\n",
    "\n",
    "conn.close()\n"
   ]
  },
  {
   "cell_type": "code",
   "execution_count": 9,
   "metadata": {},
   "outputs": [
    {
     "name": "stdout",
     "output_type": "stream",
     "text": [
      "Total credits: 740\n",
      "Subject 010113010 credits: 3\n"
     ]
    },
    {
     "data": {
      "text/plain": [
       "False"
      ]
     },
     "execution_count": 9,
     "metadata": {},
     "output_type": "execute_result"
    }
   ],
   "source": [
    "import sqlite3\n",
    "def check_credit(sub_id):\n",
    "    conn = sqlite3.connect(\"w3.db\")\n",
    "    c = conn.cursor()\n",
    "\n",
    "    # Execute the SELECT statement and retrieve the total sum of credits\n",
    "    c.execute(\"SELECT SUM(credit) FROM subjects\")\n",
    "    result = c.fetchone()\n",
    "\n",
    "    # Get the total sum of credits from the result tuple\n",
    "    total_credits = result[0]\n",
    "\n",
    "    # Print the total sum of credits\n",
    "    print(\"Total credits:\", total_credits)\n",
    "\n",
    "    # Execute the SELECT statement to retrieve the sum of credits for the specified subject\n",
    "    c.execute(\"SELECT SUM(credit) FROM subjects WHERE real_subject_id = ?\", (sub_id,))\n",
    "    result = c.fetchone()\n",
    "\n",
    "    # Get the sum of credits for the specified subject from the result tuple\n",
    "    subject_credits = result[0]\n",
    "\n",
    "    # Print the sum of credits for the specified subject\n",
    "    print(f\"Subject {sub_id} credits:\", subject_credits)\n",
    "\n",
    "    # Close the connections\n",
    "    conn.close()\n",
    "    \n",
    "    credits_now = total_credits + subject_credits\n",
    "\n",
    "    if credits_now >22:\n",
    "        return False\n",
    "    else:\n",
    "        return True\n",
    "\n",
    "check_credit(\"010113010\")\n"
   ]
  },
  {
   "cell_type": "code",
   "execution_count": null,
   "metadata": {},
   "outputs": [],
   "source": [
    "#function check ลงไปแล้วรึยัง (ตารางเก็บวิชาที่ผู้ใช้เลือก)"
   ]
  },
  {
   "cell_type": "code",
   "execution_count": null,
   "metadata": {},
   "outputs": [],
   "source": [
    "from datetime import datetime\n",
    "\n",
    "event1_start = datetime(2023, 3, 10, 14, 0) # March 10th, 2023 at 2:00 PM\n",
    "event1_end = datetime(2023, 3, 10, 16, 0) # March 10th, 2023 at 4:00 PM\n",
    "\n",
    "event2_start = datetime(2023, 3, 10, 16, 0) # March 10th, 2023 at 4:00 PM\n",
    "event2_end = datetime(2023, 3, 10, 17, 0) # March 10th, 2023 at 5:00 PM\n"
   ]
  },
  {
   "cell_type": "code",
   "execution_count": 3,
   "metadata": {},
   "outputs": [],
   "source": [
    "from datetime import datetime\n",
    "\n",
    "event1_start = datetime(2566, 3, 10, 14, 0) # March 10th, 2023 at 2:00 PM\n",
    "event1_end = datetime(2566, 3, 10, 16, 0) # March 10th, 2023 at 4:00 PM\n",
    "\n",
    "event2_start = datetime(2566, 3, 10, 16, 0) # March 10th, 2023 at 4:00 PM\n",
    "event2_end = datetime(2566, 3, 10, 17, 0) # March 10th, 2023 at 5:00 PM\n"
   ]
  },
  {
   "cell_type": "code",
   "execution_count": 4,
   "metadata": {},
   "outputs": [
    {
     "name": "stdout",
     "output_type": "stream",
     "text": [
      "The two events do not overlap.\n"
     ]
    }
   ],
   "source": [
    "#function check วันเวลา\n",
    "def check_time_overlap(event1_start, event1_end, event2_start, event2_end):\n",
    "    if event1_end <= event2_start or event2_end <= event1_start:\n",
    "        return False\n",
    "    else:\n",
    "        return True\n",
    "\n",
    "if check_time_overlap(event1_start, event1_end, event2_start, event2_end):\n",
    "    print(\"The two events overlap.\")\n",
    "else:\n",
    "    print(\"The two events do not overlap.\")\n"
   ]
  }
 ],
 "metadata": {
  "kernelspec": {
   "display_name": "base",
   "language": "python",
   "name": "python3"
  },
  "language_info": {
   "codemirror_mode": {
    "name": "ipython",
    "version": 3
   },
   "file_extension": ".py",
   "mimetype": "text/x-python",
   "name": "python",
   "nbconvert_exporter": "python",
   "pygments_lexer": "ipython3",
   "version": "3.8.8"
  },
  "orig_nbformat": 4
 },
 "nbformat": 4,
 "nbformat_minor": 2
}
