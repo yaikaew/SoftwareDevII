{
 "cells": [
  {
   "cell_type": "code",
   "execution_count": null,
   "metadata": {},
   "outputs": [],
   "source": [
    "#function check เรียนไปแล้วหรือยัง (ตาราง subject)\n",
    "from app_users.models import Subjects\n",
    "\n",
    "def check_pass_subject(request, user_id, sub_id):\n",
    "    data = Subjects.objects.filter(userid = user_id) #เอาทุกอย่างในตารางsubjectsของ Userคนนั้น\n",
    "    p_sub = data.values_list('real_subject_id', flat=True) #เอาเฉพาะวิชา\n",
    "    for i in p_sub:\n",
    "        if sub_id in i :\n",
    "            return False\n",
    "    else :\n",
    "        return True"
   ]
  },
  {
   "cell_type": "code",
   "execution_count": 11,
   "metadata": {},
   "outputs": [
    {
     "name": "stdout",
     "output_type": "stream",
     "text": [
      "[('010113030',), ('010123102',), ('040203111',), ('040313005',), ('040313006',), ('080103001',), ('080303502',), ('080303601',), ('010113138',), ('010113139',), ('010123103',), ('040003004',), ('040203112',), ('040313007',), ('040313008',), ('080103002',), ('010123105',), ('010123106',), ('010123107',), ('010123108',), ('010123131',), ('010123133',), ('080103034',)]\n",
      "('040503001',)\n"
     ]
    },
    {
     "data": {
      "text/plain": [
       "True"
      ]
     },
     "execution_count": 11,
     "metadata": {},
     "output_type": "execute_result"
    }
   ],
   "source": [
    "#function check เรียนไปแล้วหรือยัง (ตาราง subject)\n",
    "import sqlite3\n",
    "\n",
    "def check_pass_subject(sub_id,u_id):\n",
    "    conn = sqlite3.connect(\"w3.db\")\n",
    "    c = conn.cursor()\n",
    "\n",
    "    #เลือกวิชาทั้งหมดที่มีจาก subjects ของ user คนนั้น\n",
    "    c.execute(\"SELECT real_subject_id FROM subjects WHERE UserID = ?\", (u_id,))\n",
    "    total_subjects = c.fetchall()\n",
    "    print(total_subjects)\n",
    "    \n",
    "    #ไปค้นหารหัสวิชาจาก sub_id ที่ user ป้อนเข้ามา\n",
    "    c.execute(\"SELECT code FROM app_schedule_subjects_info WHERE ID = ?\", (sub_id,))\n",
    "    select_sub = c.fetchall()\n",
    "    print(select_sub[0])\n",
    "\n",
    "    # Close the connections\n",
    "    conn.close()\n",
    "\n",
    "    if select_sub[0] in total_subjects:\n",
    "        return False\n",
    "    else:\n",
    "        return True\n",
    "\n",
    "check_pass_subject(600,1)"
   ]
  },
  {
   "cell_type": "code",
   "execution_count": 7,
   "metadata": {},
   "outputs": [
    {
     "ename": "ModuleNotFoundError",
     "evalue": "No module named 'django'",
     "output_type": "error",
     "traceback": [
      "\u001b[1;31m---------------------------------------------------------------------------\u001b[0m",
      "\u001b[1;31mModuleNotFoundError\u001b[0m                       Traceback (most recent call last)",
      "\u001b[1;32m<ipython-input-7-b29b8081be06>\u001b[0m in \u001b[0;36m<module>\u001b[1;34m\u001b[0m\n\u001b[1;32m----> 1\u001b[1;33m \u001b[1;32mfrom\u001b[0m \u001b[0mapp_users\u001b[0m\u001b[1;33m.\u001b[0m\u001b[0mmodels\u001b[0m \u001b[1;32mimport\u001b[0m \u001b[0mSubjects\u001b[0m\u001b[1;33m\u001b[0m\u001b[1;33m\u001b[0m\u001b[0m\n\u001b[0m\u001b[0;32m      2\u001b[0m \u001b[1;33m\u001b[0m\u001b[0m\n\u001b[0;32m      3\u001b[0m \u001b[1;32mdef\u001b[0m \u001b[0mcheck_credit\u001b[0m\u001b[1;33m(\u001b[0m\u001b[0mrequest\u001b[0m\u001b[1;33m,\u001b[0m \u001b[0muser_id\u001b[0m\u001b[1;33m,\u001b[0m \u001b[0msub_id\u001b[0m\u001b[1;33m)\u001b[0m\u001b[1;33m:\u001b[0m\u001b[1;33m\u001b[0m\u001b[1;33m\u001b[0m\u001b[0m\n\u001b[0;32m      4\u001b[0m     \u001b[0mdata\u001b[0m \u001b[1;33m=\u001b[0m \u001b[0mSubjects\u001b[0m\u001b[1;33m.\u001b[0m\u001b[0mobjects\u001b[0m\u001b[1;33m.\u001b[0m\u001b[0mfilter\u001b[0m\u001b[1;33m(\u001b[0m\u001b[0muserid\u001b[0m \u001b[1;33m=\u001b[0m \u001b[0muser_id\u001b[0m\u001b[1;33m)\u001b[0m \u001b[1;31m#เอาทุกอย่างในตารางsubjectsของ Userคนนั้น\u001b[0m\u001b[1;33m\u001b[0m\u001b[1;33m\u001b[0m\u001b[0m\n\u001b[0;32m      5\u001b[0m     \u001b[0mp_sub\u001b[0m \u001b[1;33m=\u001b[0m \u001b[0mdata\u001b[0m\u001b[1;33m.\u001b[0m\u001b[0mvalues_list\u001b[0m\u001b[1;33m(\u001b[0m\u001b[1;34m'credit'\u001b[0m\u001b[1;33m,\u001b[0m \u001b[0mflat\u001b[0m\u001b[1;33m=\u001b[0m\u001b[1;32mTrue\u001b[0m\u001b[1;33m)\u001b[0m \u001b[1;31m#เอาเฉพาะหน่วยกิต\u001b[0m\u001b[1;33m\u001b[0m\u001b[1;33m\u001b[0m\u001b[0m\n",
      "\u001b[1;32md:\\github\\SoftwareDevII\\schedule\\app_users\\models.py\u001b[0m in \u001b[0;36m<module>\u001b[1;34m\u001b[0m\n\u001b[1;32m----> 1\u001b[1;33m \u001b[1;32mfrom\u001b[0m \u001b[0mdjango\u001b[0m\u001b[1;33m.\u001b[0m\u001b[0mdb\u001b[0m \u001b[1;32mimport\u001b[0m \u001b[0mmodels\u001b[0m\u001b[1;33m\u001b[0m\u001b[1;33m\u001b[0m\u001b[0m\n\u001b[0m\u001b[0;32m      2\u001b[0m \u001b[1;32mfrom\u001b[0m \u001b[0mdjango\u001b[0m\u001b[1;33m.\u001b[0m\u001b[0mcontrib\u001b[0m\u001b[1;33m.\u001b[0m\u001b[0mauth\u001b[0m\u001b[1;33m.\u001b[0m\u001b[0mmodels\u001b[0m \u001b[1;32mimport\u001b[0m \u001b[0mUser\u001b[0m\u001b[1;33m\u001b[0m\u001b[1;33m\u001b[0m\u001b[0m\n\u001b[0;32m      3\u001b[0m \u001b[1;33m\u001b[0m\u001b[0m\n\u001b[0;32m      4\u001b[0m \u001b[1;31m# Create your models here.\u001b[0m\u001b[1;33m\u001b[0m\u001b[1;33m\u001b[0m\u001b[1;33m\u001b[0m\u001b[0m\n\u001b[0;32m      5\u001b[0m \u001b[1;32mclass\u001b[0m \u001b[0mGpax\u001b[0m\u001b[1;33m(\u001b[0m\u001b[0mmodels\u001b[0m\u001b[1;33m.\u001b[0m\u001b[0mModel\u001b[0m\u001b[1;33m)\u001b[0m\u001b[1;33m:\u001b[0m\u001b[1;33m\u001b[0m\u001b[1;33m\u001b[0m\u001b[0m\n",
      "\u001b[1;31mModuleNotFoundError\u001b[0m: No module named 'django'"
     ]
    }
   ],
   "source": [
    "from app_users.models import Subjects\n",
    "\n",
    "def check_credit(request, user_id, sub_id):\n",
    "    data = Subjects.objects.filter(userid = user_id) #เอาทุกอย่างในตารางsubjectsของ Userคนนั้น\n",
    "    p_sub = data.values_list('credit', flat=True) #เอาเฉพาะหน่วยกิต\n",
    "    total_credits = 0\n",
    "    for i in p_sub:\n",
    "        total_credits+=i\n",
    "    \n",
    "    data2 = Subjects.objects.filter(real_subject_id = sub_id)#เอาSubjectที่userที่เลือก\n",
    "    p_sub2 = data.values_list('credit', flat=True)#เอาหน่วยกิต\n",
    "    subject_credits = p_sub2[0]\n",
    "    credits_now = total_credits + subject_credits\n",
    "    print(credits_now)\n",
    "    if credits_now > 22 :\n",
    "        return False\n",
    "    else :\n",
    "        return True"
   ]
  },
  {
   "cell_type": "code",
   "execution_count": null,
   "metadata": {},
   "outputs": [
    {
     "name": "stdout",
     "output_type": "stream",
     "text": [
      "Total credits: 13\n",
      "(3,)\n",
      "Subject 010113138 credits: 3\n"
     ]
    },
    {
     "data": {
      "text/plain": [
       "True"
      ]
     },
     "execution_count": 2,
     "metadata": {},
     "output_type": "execute_result"
    }
   ],
   "source": [
    "#Function check credit\n",
    "import sqlite3\n",
    "def check_credit(user_id,sub_id):\n",
    "    conn = sqlite3.connect(\"w3.db\")\n",
    "    c = conn.cursor()\n",
    "\n",
    "    # Execute the SELECT statement and retrieve the total sum of credits\n",
    "    c.execute(\"SELECT SUM(app_schedule_subjects_info.credit) FROM app_schedule_subjects_info,app_schedule_user_subjects \"+\n",
    "              \"WHERE app_schedule_user_subjects.user_id_id = ?  AND app_schedule_user_subjects.sub_id_id = app_schedule_subjects_info.ID \",(user_id,))\n",
    "    result = c.fetchone()\n",
    "\n",
    "    # Get the total sum of credits from the result tuple\n",
    "    total_credits = result[0]\n",
    " \n",
    "    # Print the total sum of credits\n",
    "    print(\"Total credits:\", total_credits)\n",
    "\n",
    "    # Execute the SELECT statement to retrieve the sum of credits for the specified subject\n",
    "    c.execute(\"SELECT credit FROM app_select_subjects_test_date WHERE code = ?\", (sub_id,))\n",
    "    result = c.fetchone()\n",
    "    print(result)\n",
    "    # Get the sum of credits for the specified subject from the result tuple\n",
    "    subject_credits = result[0]\n",
    "\n",
    "    # Print the sum of credits for the specified subject\n",
    "    print(f\"Subject {sub_id} credits:\", subject_credits)\n",
    "\n",
    "    # Close the connections\n",
    "    conn.close()\n",
    "    \n",
    "    credits_now = total_credits + subject_credits\n",
    "\n",
    "    if credits_now >22:\n",
    "        return False\n",
    "    else:\n",
    "        return True\n",
    "\n",
    "check_credit(1,\"010113138\")\n"
   ]
  },
  {
   "cell_type": "code",
   "execution_count": 10,
   "metadata": {},
   "outputs": [
    {
     "name": "stdout",
     "output_type": "stream",
     "text": [
      "[]\n"
     ]
    },
    {
     "data": {
      "text/plain": [
       "True"
      ]
     },
     "execution_count": 10,
     "metadata": {},
     "output_type": "execute_result"
    }
   ],
   "source": [
    "#function check ลงไปแล้วรึยัง (ตารางเก็บวิชาที่ผู้ใช้เลือก)\n",
    "import sqlite3\n",
    "def check_regis_subject(sub_id,u_id):\n",
    "    conn = sqlite3.connect(\"w3.db\")\n",
    "    c = conn.cursor()\n",
    "\n",
    "    #เลือกวิชาทั้งหมดที่มีจาก select_subjects ของ user คนนั้น\n",
    "    c.execute(\"SELECT sub_id_id FROM app_schedule_user_subjects WHERE user_id_id = ?\", (u_id,))\n",
    "    data = c.fetchall()\n",
    "    print(data)\n",
    "\n",
    "    # Close the connections\n",
    "    conn.close()\n",
    "\n",
    "    if (sub_id,) in data :\n",
    "        return False\n",
    "    return True\n",
    "\n",
    "check_regis_subject(500,1)"
   ]
  },
  {
   "cell_type": "code",
   "execution_count": null,
   "metadata": {},
   "outputs": [
    {
     "name": "stdout",
     "output_type": "stream",
     "text": [
      "010113030\n",
      "010123102\n",
      "040203111\n",
      "040313005\n",
      "040313006\n",
      "080103001\n",
      "080303502\n",
      "080303601\n",
      "010113138\n",
      "010113139\n",
      "010123103\n",
      "040003004\n",
      "040203112\n",
      "040313007\n",
      "040313008\n",
      "080103002\n",
      "010123105\n",
      "010123106\n",
      "010123107\n",
      "010123108\n",
      "010123131\n",
      "010123133\n",
      "080103034\n"
     ]
    }
   ],
   "source": [
    "# add 0 front of subject_code\n",
    "import sqlite3\n",
    "user_id = 8\n",
    "conn = sqlite3.connect(\"w3.db\")\n",
    "c = conn.cursor()\n",
    "c.execute(\"SELECT * FROM subjects WHERE UserID = ?\",(user_id,))\n",
    "result = c.fetchall()\n",
    "for a in result:\n",
    "    x = '0'+a[1]\n",
    "    print(x)\n",
    "    c.execute(\"UPDATE subjects SET real_subject_id = ? WHERE UserID = ? AND real_subject_id = ? \",(x,user_id,a[1],))\n",
    "\n",
    "conn.commit()\n",
    "conn.close()"
   ]
  },
  {
   "cell_type": "code",
   "execution_count": null,
   "metadata": {},
   "outputs": [
    {
     "name": "stdout",
     "output_type": "stream",
     "text": [
      "[(430,), (431,), (443,), (446,)]\n",
      "[('W', '13:00:00', '16:00:00')]\n",
      "M 13:00:00 16:00:00\n",
      "H 09:00:00 12:00:00\n",
      "F 10:00:00 12:00:00\n",
      "H 13:00:00 16:00:00\n"
     ]
    },
    {
     "data": {
      "text/plain": [
       "True"
      ]
     },
     "execution_count": 32,
     "metadata": {},
     "output_type": "execute_result"
    }
   ],
   "source": [
    "#function check วันเวลาเรียน\n",
    "import sqlite3\n",
    "from datetime import datetime\n",
    "\n",
    "def check_time_study(sub_id,user_id):\n",
    "      conn = sqlite3.connect(\"w3.db\")\n",
    "      c = conn.cursor()\n",
    "      c.execute(\"SELECT sub_id_id FROM app_schedule_user_subjects WHERE user_id_id = ? \",(user_id,)) \n",
    "      allsub = c.fetchall()\n",
    "      print(allsub)\n",
    "\n",
    "      alltime = []\n",
    "      for x in allsub:\n",
    "            sub = x[0]\n",
    "            c.execute(\"SELECT day,start_time,end_time FROM app_schedule_subjects_info WHERE ID = ? \",(sub,))\n",
    "            time = c.fetchall()\n",
    "            alltime.append(time[0])\n",
    "\n",
    "      c.execute(\"SELECT day,start_time,end_time FROM app_schedule_subjects_info WHERE ID = ? \",(sub_id,))\n",
    "      subnow = c.fetchall()\n",
    "      print(subnow)\n",
    "\n",
    "      for y in alltime:\n",
    "            print(y[0],y[1],y[2])\n",
    "            daynow = subnow[0][0]\n",
    "            startnow = subnow[0][1].split(':')[0]\n",
    "            endnow = subnow[0][2].split(':')[0]\n",
    "\n",
    "            dayold = y[0]\n",
    "            startold = y[1].split(':')[0]\n",
    "            endold = y[2].split(':')[0]\n",
    "            if daynow == dayold:\n",
    "                  if endnow <= startold or endold <= startnow: \n",
    "                        return True\n",
    "                  else:\n",
    "                        return False\n",
    "      return True\n",
    "            \n",
    "   \n",
    "\n",
    "\n",
    "check_time_study(\"444\",1)"
   ]
  },
  {
   "cell_type": "code",
   "execution_count": null,
   "metadata": {},
   "outputs": [],
   "source": [
    "#function check วันเวลาสอบกลางภาค\n",
    "from datetime import datetime\n",
    "def check_time_midterm(sub_id,user_id):\n",
    "    conn = sqlite3.connect(\"w3.db\")\n",
    "    c = conn.cursor()\n",
    "\n",
    "    c.execute(\"SELECT user.sub_id_id, testdate.mid_numday ,testdate.mid_starttime,testdate.mid_endtime \"+\n",
    "              \"FROM app_schedule_user_subjects AS user ,app_select_subjects_test_date AS testdate WHERE user.user_id_id = ?\"+\n",
    "               \"AND user.sub_id_id = testdate.code \",(user_id,)) \n",
    "    allsub = c.fetchall()\n",
    "    for x  in allsub:\n",
    "        sub = x[0]\n",
    "        c.execute"
   ]
  },
  {
   "cell_type": "code",
   "execution_count": null,
   "metadata": {},
   "outputs": [],
   "source": [
    "#function check วันเวลาปลายภาค\n",
    "from datetime import datetime\n",
    "def check_time_final(sub_id,user_id):"
   ]
  },
  {
   "cell_type": "code",
   "execution_count": null,
   "metadata": {},
   "outputs": [],
   "source": [
    "from datetime import datetime\n",
    "\n",
    "event1_start = datetime(2023, 3, 10, 14, 0) # March 10th, 2023 at 2:00 PM\n",
    "event1_end = datetime(2023, 3, 10, 16, 0) # March 10th, 2023 at 4:00 PM\n",
    "\n",
    "event2_start = datetime(2023, 3, 10, 16, 0) # March 10th, 2023 at 4:00 PM\n",
    "event2_end = datetime(2023, 3, 10, 17, 0) # March 10th, 2023 at 5:00 PM\n"
   ]
  },
  {
   "cell_type": "code",
   "execution_count": null,
   "metadata": {},
   "outputs": [],
   "source": [
    "from datetime import datetime\n",
    "\n",
    "event1_start = datetime(2566, 3, 10, 14, 0) # March 10th, 2023 at 2:00 PM\n",
    "event1_end = datetime(2566, 3, 10, 16, 0) # March 10th, 2023 at 4:00 PM\n",
    "\n",
    "event2_start = datetime(2566, 3, 10, 16, 0) # March 10th, 2023 at 4:00 PM\n",
    "event2_end = datetime(2566, 3, 10, 17, 0) # March 10th, 2023 at 5:00 PM\n"
   ]
  },
  {
   "cell_type": "code",
   "execution_count": null,
   "metadata": {},
   "outputs": [
    {
     "name": "stdout",
     "output_type": "stream",
     "text": [
      "The two events do not overlap.\n"
     ]
    }
   ],
   "source": [
    "#function check วันเวลา\n",
    "def check_time_overlap(event1_start, event1_end, event2_start, event2_end):\n",
    "    if event1_end <= event2_start or event2_end <= event1_start:\n",
    "        return False\n",
    "    else:\n",
    "        return True\n",
    "\n",
    "if check_time_overlap(event1_start, event1_end, event2_start, event2_end):\n",
    "    print(\"The two events overlap.\")\n",
    "else:\n",
    "    print(\"The two events do not overlap.\")\n"
   ]
  }
 ],
 "metadata": {
  "kernelspec": {
   "display_name": "base",
   "language": "python",
   "name": "python3"
  },
  "language_info": {
   "codemirror_mode": {
    "name": "ipython",
    "version": 3
   },
   "file_extension": ".py",
   "mimetype": "text/x-python",
   "name": "python",
   "nbconvert_exporter": "python",
   "pygments_lexer": "ipython3",
   "version": "3.8.8"
  },
  "orig_nbformat": 4
 },
 "nbformat": 4,
 "nbformat_minor": 2
}
