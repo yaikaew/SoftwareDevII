{
 "cells": [
  {
   "cell_type": "code",
   "execution_count": null,
   "metadata": {},
   "outputs": [],
   "source": [
    "#function check เรียนไปแล้วหรือยัง (ตาราง subject)\n",
    "from app_users.models import Subjects\n",
    "\n",
    "def check_pass_subject(request, user_id, sub_id):\n",
    "    data = Subjects.objects.filter(userid = user_id) #เอาทุกอย่างในตารางsubjectsของ Userคนนั้น\n",
    "    p_sub = data.values_list('real_subject_id', flat=True) #เอาเฉพาะวิชา\n",
    "    for i in p_sub:\n",
    "        if sub_id in i :\n",
    "            return False\n",
    "    else :\n",
    "        return True"
   ]
  },
  {
   "cell_type": "code",
   "execution_count": 11,
   "metadata": {},
   "outputs": [
    {
     "name": "stdout",
     "output_type": "stream",
     "text": [
      "[('10113030',), ('10123102',), ('40203111',), ('40313005',), ('40313006',), ('80103001',), ('80303502',), ('80303601',), ('10113138',), ('10113139',), ('10123103',), ('40003004',), ('40203112',), ('40313007',), ('40313008',), ('80103002',), ('10123105',), ('10123106',), ('10123107',), ('10123108',), ('10123131',), ('10123133',), ('80103034',)]\n"
     ]
    },
    {
     "data": {
      "text/plain": [
       "False"
      ]
     },
     "execution_count": 11,
     "metadata": {},
     "output_type": "execute_result"
    }
   ],
   "source": [
    "#function check เรียนไปแล้วหรือยัง (ตาราง subject)\n",
    "import sqlite3\n",
    "\n",
    "def check_pass_subject(sub_id,u_id):\n",
    "    conn = sqlite3.connect(\"w3.db\")\n",
    "    c = conn.cursor()\n",
    "\n",
    "    #เลือกวิชาทั้งหมดที่มีจาก subjects ของ user คนนั้น\n",
    "    c.execute(\"SELECT real_subject_id FROM subjects WHERE UserID = ?\", (u_id,))\n",
    "    data = c.fetchall()\n",
    "    print(data)\n",
    "\n",
    "    # Close the connections\n",
    "    conn.close()\n",
    "    \n",
    "    for i in data:\n",
    "        if sub_id in i :\n",
    "            return False\n",
    "    else:\n",
    "        return True\n",
    "\n",
    "check_pass_subject(\"80103001\" , \"1\")"
   ]
  },
  {
   "cell_type": "code",
   "execution_count": null,
   "metadata": {},
   "outputs": [],
   "source": [
    "from app_users.models import Subjects\n",
    "\n",
    "def check_credit(request, user_id, sub_id):\n",
    "    data = Subjects.objects.filter(userid = user_id) #เอาทุกอย่างในตารางsubjectsของ Userคนนั้น\n",
    "    p_sub = data.values_list('credit', flat=True) #เอาเฉพาะหน่วยกิต\n",
    "    total_credits = 0\n",
    "    for i in p_sub:\n",
    "        total_credits+=i\n",
    "    \n",
    "    data2 = Subjects.objects.filter(real_subject_id = sub_id)#เอาSubjectที่userที่เลือก\n",
    "    p_sub2 = data.values_list('credit', flat=True)#เอาหน่วยกิต\n",
    "    subject_credits = p_sub2[0]\n",
    "    credits_now = total_credits + subject_credits\n",
    "    print(credits_now)\n",
    "    if credits_now > 22 :\n",
    "        return False\n",
    "    else :\n",
    "        return True"
   ]
  },
  {
   "cell_type": "code",
   "execution_count": 14,
   "metadata": {},
   "outputs": [
    {
     "name": "stdout",
     "output_type": "stream",
     "text": [
      "Total credits: 57\n",
      "(3,)\n",
      "Subject 010113138 credits: 3\n"
     ]
    },
    {
     "data": {
      "text/plain": [
       "False"
      ]
     },
     "execution_count": 14,
     "metadata": {},
     "output_type": "execute_result"
    }
   ],
   "source": [
    "#Function check credit\n",
    "import sqlite3\n",
    "def check_credit(user_id,sub_id):\n",
    "    conn = sqlite3.connect(\"w3.db\")\n",
    "    c = conn.cursor()\n",
    "\n",
    "    # Execute the SELECT statement and retrieve the total sum of credits\n",
    "    c.execute(\"SELECT SUM(credit) FROM subjects WHERE UserID = ?\",(user_id,))\n",
    "    result = c.fetchone()\n",
    "\n",
    "    # Get the total sum of credits from the result tuple\n",
    "    total_credits = result[0]\n",
    "\n",
    "    # Print the total sum of credits\n",
    "    print(\"Total credits:\", total_credits)\n",
    "\n",
    "    # Execute the SELECT statement to retrieve the sum of credits for the specified subject\n",
    "    c.execute(\"SELECT credit FROM app_select_subjects_test_date WHERE code = ?\", (sub_id,))\n",
    "    result = c.fetchone()\n",
    "    print(result)\n",
    "    # Get the sum of credits for the specified subject from the result tuple\n",
    "    subject_credits = result[0]\n",
    "\n",
    "    # Print the sum of credits for the specified subject\n",
    "    print(f\"Subject {sub_id} credits:\", subject_credits)\n",
    "\n",
    "    # Close the connections\n",
    "    conn.close()\n",
    "    \n",
    "    credits_now = total_credits + subject_credits\n",
    "\n",
    "    if credits_now >22:\n",
    "        return False\n",
    "    else:\n",
    "        return True\n",
    "\n",
    "check_credit(1,\"010113138\")\n"
   ]
  },
  {
   "cell_type": "code",
   "execution_count": null,
   "metadata": {},
   "outputs": [],
   "source": [
    "#function check ลงไปแล้วรึยัง (ตารางเก็บวิชาที่ผู้ใช้เลือก)"
   ]
  },
  {
   "cell_type": "code",
   "execution_count": 7,
   "metadata": {},
   "outputs": [
    {
     "name": "stdout",
     "output_type": "stream",
     "text": [
      "010113030\n",
      "010123102\n",
      "040203111\n",
      "040313005\n",
      "040313006\n",
      "080103001\n",
      "080303502\n",
      "080303601\n",
      "010113138\n",
      "010113139\n",
      "010123103\n",
      "040003004\n",
      "040203112\n",
      "040313007\n",
      "040313008\n",
      "080103002\n",
      "010123105\n",
      "010123106\n",
      "010123107\n",
      "010123108\n",
      "010123131\n",
      "010123133\n",
      "080103034\n"
     ]
    }
   ],
   "source": [
    "# add 0 front of subject_code\n",
    "import sqlite3\n",
    "user_id = 8\n",
    "conn = sqlite3.connect(\"w3.db\")\n",
    "c = conn.cursor()\n",
    "c.execute(\"SELECT * FROM subjects WHERE UserID = ?\",(user_id,))\n",
    "result = c.fetchall()\n",
    "for a in result:\n",
    "    x = '0'+a[1]\n",
    "    print(x)\n",
    "    c.execute(\"UPDATE subjects SET real_subject_id = ? WHERE UserID = ? AND real_subject_id = ? \",(x,user_id,a[1],))\n",
    "\n",
    "conn.commit()\n",
    "conn.close()"
   ]
  },
  {
   "cell_type": "code",
   "execution_count": null,
   "metadata": {},
   "outputs": [],
   "source": [
    "#function check วันเวลา\n",
    "from datetime import datetime"
   ]
  },
  {
   "cell_type": "code",
   "execution_count": null,
   "metadata": {},
   "outputs": [],
   "source": [
    "from datetime import datetime\n",
    "\n",
    "event1_start = datetime(2023, 3, 10, 14, 0) # March 10th, 2023 at 2:00 PM\n",
    "event1_end = datetime(2023, 3, 10, 16, 0) # March 10th, 2023 at 4:00 PM\n",
    "\n",
    "event2_start = datetime(2023, 3, 10, 16, 0) # March 10th, 2023 at 4:00 PM\n",
    "event2_end = datetime(2023, 3, 10, 17, 0) # March 10th, 2023 at 5:00 PM\n"
   ]
  },
  {
   "cell_type": "code",
   "execution_count": null,
   "metadata": {},
   "outputs": [],
   "source": [
    "from datetime import datetime\n",
    "\n",
    "event1_start = datetime(2566, 3, 10, 14, 0) # March 10th, 2023 at 2:00 PM\n",
    "event1_end = datetime(2566, 3, 10, 16, 0) # March 10th, 2023 at 4:00 PM\n",
    "\n",
    "event2_start = datetime(2566, 3, 10, 16, 0) # March 10th, 2023 at 4:00 PM\n",
    "event2_end = datetime(2566, 3, 10, 17, 0) # March 10th, 2023 at 5:00 PM\n"
   ]
  },
  {
   "cell_type": "code",
   "execution_count": null,
   "metadata": {},
   "outputs": [],
   "source": [
    "#function check วันเวลา\n",
    "def check_time_overlap(event1_start, event1_end, event2_start, event2_end):\n",
    "    if event1_end <= event2_start or event2_end <= event1_start:\n",
    "        return False\n",
    "    else:\n",
    "        return True\n",
    "\n",
    "if check_time_overlap(event1_start, event1_end, event2_start, event2_end):\n",
    "    print(\"The two events overlap.\")\n",
    "else:\n",
    "    print(\"The two events do not overlap.\")\n"
   ]
  }
 ],
 "metadata": {
  "kernelspec": {
   "display_name": "base",
   "language": "python",
   "name": "python3"
  },
  "language_info": {
   "codemirror_mode": {
    "name": "ipython",
    "version": 3
   },
   "file_extension": ".py",
   "mimetype": "text/x-python",
   "name": "python",
   "nbconvert_exporter": "python",
   "pygments_lexer": "ipython3",
   "version": "3.8.8"
  },
  "orig_nbformat": 4
 },
 "nbformat": 4,
 "nbformat_minor": 2
}
