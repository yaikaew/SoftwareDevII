{
 "cells": [
  {
   "cell_type": "code",
   "execution_count": 1,
   "metadata": {},
   "outputs": [],
   "source": [
    "#function check credit ห้ามเกิน 22 \n",
    "from app_select.models import MyModel  \n",
    "\n",
    "def check_credit(sub_id):\n",
    "    # get all objects from the database\n",
    "    all_sub = MyModel.objects.all()\n",
    "    for a in all_sub:\n",
    "        \n"
   ]
  },
  {
   "cell_type": "code",
   "execution_count": null,
   "metadata": {},
   "outputs": [],
   "source": [
    "#function check เรียนไปแล้วหรือยัง (ตาราง subject)\n"
   ]
  },
  {
   "cell_type": "code",
   "execution_count": null,
   "metadata": {},
   "outputs": [],
   "source": [
    "#function check ลงไปแล้วรึยัง (ตารางเก็บวิชาที่ผู้ใช้เลือก)"
   ]
  },
  {
   "cell_type": "code",
   "execution_count": null,
   "metadata": {},
   "outputs": [],
   "source": [
    "from datetime import datetime\n",
    "\n",
    "event1_start = datetime(2023, 3, 10, 14, 0) # March 10th, 2023 at 2:00 PM\n",
    "event1_end = datetime(2023, 3, 10, 16, 0) # March 10th, 2023 at 4:00 PM\n",
    "\n",
    "event2_start = datetime(2023, 3, 10, 16, 0) # March 10th, 2023 at 4:00 PM\n",
    "event2_end = datetime(2023, 3, 10, 17, 0) # March 10th, 2023 at 5:00 PM\n"
   ]
  },
  {
   "cell_type": "code",
   "execution_count": 3,
   "metadata": {},
   "outputs": [],
   "source": [
    "from datetime import datetime\n",
    "\n",
    "event1_start = datetime(2566, 3, 10, 14, 0) # March 10th, 2023 at 2:00 PM\n",
    "event1_end = datetime(2566, 3, 10, 16, 0) # March 10th, 2023 at 4:00 PM\n",
    "\n",
    "event2_start = datetime(2566, 3, 10, 16, 0) # March 10th, 2023 at 4:00 PM\n",
    "event2_end = datetime(2566, 3, 10, 17, 0) # March 10th, 2023 at 5:00 PM\n"
   ]
  },
  {
   "cell_type": "code",
   "execution_count": 4,
   "metadata": {},
   "outputs": [
    {
     "name": "stdout",
     "output_type": "stream",
     "text": [
      "The two events do not overlap.\n"
     ]
    }
   ],
   "source": [
    "#function check วันเวลา\n",
    "def check_time_overlap(event1_start, event1_end, event2_start, event2_end):\n",
    "    if event1_end <= event2_start or event2_end <= event1_start:\n",
    "        return False\n",
    "    else:\n",
    "        return True\n",
    "\n",
    "if check_time_overlap(event1_start, event1_end, event2_start, event2_end):\n",
    "    print(\"The two events overlap.\")\n",
    "else:\n",
    "    print(\"The two events do not overlap.\")\n"
   ]
  }
 ],
 "metadata": {
  "kernelspec": {
   "display_name": "base",
   "language": "python",
   "name": "python3"
  },
  "language_info": {
   "codemirror_mode": {
    "name": "ipython",
    "version": 3
   },
   "file_extension": ".py",
   "mimetype": "text/x-python",
   "name": "python",
   "nbconvert_exporter": "python",
   "pygments_lexer": "ipython3",
   "version": "3.8.8"
  },
  "orig_nbformat": 4
 },
 "nbformat": 4,
 "nbformat_minor": 2
}
