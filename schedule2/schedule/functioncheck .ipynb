{
 "cells": [
  {
   "cell_type": "code",
   "execution_count": 6,
   "metadata": {},
   "outputs": [],
   "source": [
    "#function check เรียนไปแล้วหรือยัง (ตาราง subject)\n",
    "import sqlite3\n",
    "def check_already_regis(sub_id,u_id):\n",
    "    conn = sqlite3.connect(\"w3.db\")\n",
    "    c = conn.cursor()\n",
    "\n",
    "    #เลือกวิชาทั้งหมดที่มีจาก select_subjects ของ user คนนั้น\n",
    "    c.execute(\"SELECT sub_id_id FROM app_schedule_user_subjects WHERE user_id_id = ?\", (u_id,))\n",
    "    user_subject = c.fetchall()\n",
    "\n",
    "    # Close the connections\n",
    "    conn.close()\n",
    "\n",
    "    if (sub_id,) in user_subject :\n",
    "        return False\n",
    "    return True\n"
   ]
  },
  {
   "cell_type": "code",
   "execution_count": 7,
   "metadata": {},
   "outputs": [],
   "source": [
    "#function check ลงไปแล้วรึยัง (ตารางเก็บวิชาที่ผู้ใช้เลือก)\n",
    "import sqlite3\n",
    "def check_pass_subject(sub_id,u_id):\n",
    "    conn = sqlite3.connect(\"w3.db\")\n",
    "    c = conn.cursor()\n",
    "\n",
    "    #เลือกวิชาทั้งหมดที่มีจาก subjects ของ user คนนั้น\n",
    "    c.execute(\"SELECT real_subject_id FROM subjects WHERE UserID = ?\", (u_id,))\n",
    "    total_subjects = c.fetchall()\n",
    "\n",
    "    #ไปค้นหารหัสวิชาจาก sub_id ที่ user ป้อนเข้ามา\n",
    "    c.execute(\"SELECT code FROM app_schedule_subjects_info WHERE ID = ?\", (sub_id,))\n",
    "    select_sub = c.fetchall()\n",
    "\n",
    "    # Close the connections\n",
    "    conn.close()\n",
    "\n",
    "    if select_sub[0] in total_subjects:\n",
    "        return False\n",
    "    else:\n",
    "        return True"
   ]
  },
  {
   "cell_type": "code",
   "execution_count": 8,
   "metadata": {},
   "outputs": [],
   "source": [
    "#Function check credit\n",
    "import sqlite3\n",
    "def check_over_credit(user_id,sub_id):\n",
    "    conn = sqlite3.connect(\"w3.db\")\n",
    "    c = conn.cursor()\n",
    "\n",
    "    # Execute the SELECT statement and retrieve the total sum of credits\n",
    "    c.execute(\"SELECT SUM(app_schedule_subjects_info.credit) FROM app_schedule_subjects_info,app_schedule_user_subjects \"+\n",
    "              \"WHERE app_schedule_user_subjects.user_id_id = ?  AND app_schedule_user_subjects.sub_id_id = app_schedule_subjects_info.ID \",(user_id,))\n",
    "    result = c.fetchone()\n",
    "\n",
    "    # Get the total sum of credits from the result tuple\n",
    "    total_credits = result[0]\n",
    " \n",
    "\n",
    "    # Execute the SELECT statement to retrieve the sum of credits for the specified subject\n",
    "    c.execute(\"SELECT credit FROM app_select_subjects_test_date WHERE code = ?\", (sub_id,))\n",
    "    result = c.fetchone()\n",
    "\n",
    "    # Get the sum of credits for the specified subject from the result tuple\n",
    "    subject_credits = result[0]\n",
    "\n",
    "    # Close the connections\n",
    "    conn.close()\n",
    "    \n",
    "    credits_now = total_credits + subject_credits\n",
    "    maxcredit = 22\n",
    "    \n",
    "    if credits_now > maxcredit :\n",
    "        return False\n",
    "    else:\n",
    "        return True\n"
   ]
  },
  {
   "cell_type": "code",
   "execution_count": 1,
   "metadata": {},
   "outputs": [
    {
     "name": "stdout",
     "output_type": "stream",
     "text": [
      "False\n",
      "False\n",
      "False\n",
      "True\n",
      "True\n",
      "False\n",
      "False\n",
      "False\n",
      "False\n",
      "False\n",
      "False\n",
      "True\n",
      "True\n",
      "False\n"
     ]
    }
   ],
   "source": [
    "#function check time\n",
    "\n",
    "def Check_time_Overlapse(starttime_1,endtime_1,starttime_2,endtime_2):\n",
    "    hour_starttime_1 = int(starttime_1.split(':')[0])\n",
    "    min_starttime_1 = int(starttime_1.split(':')[1])\n",
    "\n",
    "    hour_endtime_1 = int(endtime_1.split(':')[0])\n",
    "    min_endtime_1 = int(endtime_1.split(':')[1])\n",
    "\n",
    "    hour_starttime_2 = int(starttime_2.split(':')[0])\n",
    "    min_starttime_2 = int(starttime_2.split(':')[1])\n",
    "\n",
    "    hour_endtime_2 = int(endtime_2.split(':')[0])\n",
    "    min_endtime_2 =  int(endtime_2.split(':')[1])\n",
    "\n",
    "    \n",
    "\n",
    "    if hour_endtime_1 <= hour_starttime_2 or  hour_endtime_2 <=  hour_starttime_1:              #เช็คว่ามีชั่วโมงซ้อนกันหรือไม่\n",
    "        if hour_starttime_1 == hour_starttime_2 :                                                   #เวลาเริ่มเท่ากันน\n",
    "            if min_starttime_1 == min_starttime_2:                                                      #นาทีเริ่มเท่ากันไม่ได้\n",
    "                return False\n",
    "            elif  min_starttime_1 < min_starttime_2:                                                    #นาทีตอนเริ่มอันแรกน้อยกว่าอันสอง หมายความว่าอันแรกเกิดก่อน\n",
    "                if hour_endtime_1 > hour_starttime_2:                                                       #ชั่วโมงจบของอันแรกก็จะมากกว่าชั่วโมงเริ่มอันที่2ไม่ได้\n",
    "                    return False\n",
    "                elif hour_endtime_1 == hour_starttime_2:                                                    #ถ้าชั่วโมงจบของอันแรกเท่ากับชั่วโมงเริ่มอันที่2ต้องมาเช็คนาทีต่อ\n",
    "                    if min_endtime_1 <= min_starttime_2:                                                        #ถ้านาทีจบของอันแรกเท่าหรือน้อยกว่านาทีเริ่มอันที่2ก็ไม่เป็นไร เพราะเท่ากับว่าอันแรกจบแล้วถึงมาเริ่มอันสอง\n",
    "                        return True\n",
    "                    else:\n",
    "                        return False                                                                            #นาทีมากกว่าไม่ได้เพราไม่งั้นเท่ากับว่ามันจะจบหลังจากอันสองเริ่ม\n",
    "            elif  min_starttime_1 > min_starttime_2:                                                    #นาทีตอนเริ่มอันแรกมากกว่าอันสอง หมายความว่าอันสองเกิดก่อน\n",
    "                if hour_endtime_2 > hour_starttime_1:                                                       #ชั่วโมงจบของอันสองมากกว่าชั่วโมงเริ่มอันแรกไม่ได้\n",
    "                    return False\n",
    "                elif hour_endtime_2 == hour_starttime_1:                                                    #ถ้าชั่วโมงจบของอันสองเท่ากับชั่วโมงเริ่มอันแรกต้องมาเช็คนาทีต่อ\n",
    "                    if min_endtime_2 <= min_starttime_1:                                                        #ถ้านาทีจบของอันสองเท่าหรือน้อยกว่าก็ไม่เป็นไร\n",
    "                        return True\n",
    "                    else:\n",
    "                        return False                                                                            #นาทีมากกว่าไม่ได้\n",
    "        elif hour_starttime_1 == hour_starttime_2 and  hour_endtime_2 ==  hour_endtime_1:           #ทั้งเวลาเริ่มและเวลาจบเท่ากันไม่ได้\n",
    "            return False       \n",
    "        else:\n",
    "            return True                                                                         #ชั่วโมงไม่ได้มีเท่ากันเลยก็ไม่เป็นไร\n",
    "    else:\n",
    "        return False                                                                            #ชั่วโมงซ้อนทับกัน\n",
    "    \n",
    "    "
   ]
  },
  {
   "cell_type": "code",
   "execution_count": 7,
   "metadata": {},
   "outputs": [
    {
     "name": "stdout",
     "output_type": "stream",
     "text": [
      "[(430,), (431,), (432,), (433,)]\n",
      "[('S', '09:00:00', '12:00:00')]\n",
      "M 13:00:00 16:00:00\n",
      "H 09:00:00 12:00:00\n",
      "H 13:00:00 16:00:00\n",
      "S 09:00:00 12:00:00\n"
     ]
    },
    {
     "data": {
      "text/plain": [
       "False"
      ]
     },
     "execution_count": 7,
     "metadata": {},
     "output_type": "execute_result"
    }
   ],
   "source": [
    "#function check วันเวลาเรียน\n",
    "import sqlite3\n",
    "from datetime import datetime\n",
    "\n",
    "def check_study_day(sub_id,user_id):\n",
    "      conn = sqlite3.connect(\"w3.db\")\n",
    "      c = conn.cursor()\n",
    "      c.execute(\"SELECT sub_id_id FROM app_schedule_user_subjects WHERE user_id_id = ? \",(user_id,)) \n",
    "      totalsubject = c.fetchall() #subject ทั้งหมด ที่ user ได้ select ไปแล้ว\n",
    "\n",
    "      totaltimeofsub = [] #เก็บ day,start time,end time ของแต่ละ subject ที่ user select ไปแล้ว\n",
    "      for x in totalsubject:\n",
    "            sub = x[0]\n",
    "            c.execute(\"SELECT day,start_time,end_time FROM app_schedule_subjects_info WHERE ID = ? \",(sub,))\n",
    "            time = c.fetchall()\n",
    "            totaltimeofsub.append(time[0])\n",
    "\n",
    "      c.execute(\"SELECT day,start_time,end_time FROM app_schedule_subjects_info WHERE ID = ? \",(sub_id,))\n",
    "      subject_select = c.fetchall() #เก็บ  day,start time,end time ของวิชาที่ user ต้องการ select ตอนนี้\n",
    "\n",
    "      for y in totaltimeofsub:\n",
    "            print(y[0],y[1],y[2])\n",
    "            day_subject_selected = y[0]         # day จาก subject ที่ user ได้ select ไปแล้ว\n",
    "            starttime_subject_selected = y[1]   # start time จาก subject ที่ user ได้ select ไปแล้ว\n",
    "            endtime_subject_selected = y[2]     # end time จาก subject ที่ user ได้ select ไปแล้ว\n",
    "\n",
    "            day_subject_select = subject_select[0][0]           # dayจาก subject ที่ user ต้องการ select \n",
    "            starttime_subject_select = subject_select[0][1]     # start time จาก subject ที่ user ต้องการ select \n",
    "            endtime_subject_select = subject_select[0][2]       # end time จาก subject ที่ user ต้องการ select \n",
    "\n",
    "\n",
    "            if day_subject_select == day_subject_selected:\n",
    "                  if Check_time_Overlapse(starttime_subject_selected,endtime_subject_selected,starttime_subject_select,endtime_subject_select):\n",
    "                        return True\n",
    "                  else: \n",
    "                        return False\n",
    "      return True\n",
    "            \n",
    "   \n",
    "\n",
    "\n",
    "check_study_day(\"433\",1)"
   ]
  },
  {
   "cell_type": "code",
   "execution_count": 9,
   "metadata": {},
   "outputs": [
    {
     "data": {
      "text/plain": [
       "True"
      ]
     },
     "execution_count": 9,
     "metadata": {},
     "output_type": "execute_result"
    }
   ],
   "source": [
    "#function check วันเวลาสอบกลางภาค\n",
    "from datetime import date\n",
    "def check_midterm_day(sub_id,user_id):\n",
    "    conn = sqlite3.connect(\"w3.db\")\n",
    "    c = conn.cursor()\n",
    "\n",
    "    c.execute(\"SELECT testdate.mid_numday ,testdate.mid_starttime,testdate.mid_endtime \"+\n",
    "              \"FROM app_schedule_user_subjects AS user , app_schedule_subjects_info AS info, app_select_subjects_test_date AS testdate \" +\n",
    "              \"WHERE user.user_id_id = ?\"+\n",
    "               \"AND user.sub_id_id = info.ID \" +\n",
    "               \"AND info.code = testdate.code \",(user_id,))  \n",
    "    totalsubject = c.fetchall()\n",
    "\n",
    "    c.execute(\"SELECT testdate.mid_numday ,testdate.mid_starttime,testdate.mid_endtime \"+\n",
    "              \"FROM app_schedule_subjects_info AS info, app_select_subjects_test_date AS testdate \" +\n",
    "              \"WHERE ?= info.ID \" +\n",
    "               \"AND info.code = testdate.code \",(sub_id,))  \n",
    "    subject_select = c.fetchall()\n",
    "\n",
    "    for x  in totalsubject:\n",
    "        sub_selected = x[0].split(\"-\")\n",
    "        year,month,day = int(sub_selected[0]),int(sub_selected[1]),int(sub_selected[2])\n",
    "\n",
    "        day_subject_selected = date(year,month,day)                                     # day จาก subject ที่ user ได้ select ไปแล้ว\n",
    "        starttime_subject_selected = x[1]                                               # start time จาก subject ที่ user ได้ select ไปแล้ว\n",
    "        endtime_subject_selected = x[2]                                                 # end time จาก subject ที่ user ได้ select ไปแล้ว\n",
    "\n",
    "        sub_select = subject_select[0][0].split(\"-\")\n",
    "        year,month,day = int(sub_select[0]),int(sub_select[1]),int(sub_select[2])\n",
    "\n",
    "        day_subject_select = date(year,month,day)                                       # dayจาก subject ที่ user ต้องการ select \n",
    "        starttime_subject_select = subject_select[0][1]                                 # start time จาก subject ที่ user ต้องการ select \n",
    "        endtime_subject_select = subject_select[0][2]                                   # end time จาก subject ที่ user ต้องการ select\n",
    "\n",
    "        if day_subject_select == day_subject_selected:\n",
    "            if Check_time_Overlapse(starttime_subject_selected,endtime_subject_selected,starttime_subject_select,endtime_subject_select):\n",
    "                return True\n",
    "            else: \n",
    "                return False\n",
    "    return True\n",
    "        \n",
    "\n",
    "check_midterm_day(592,1)"
   ]
  },
  {
   "cell_type": "code",
   "execution_count": 42,
   "metadata": {},
   "outputs": [
    {
     "name": "stdout",
     "output_type": "stream",
     "text": [
      "[('2566-03-31', '09:00:00', '12:00:00'), ('2566-03-27', '09:00:00', '12:00:00'), ('2566-03-28', '09:00:00', '12:00:00')]\n",
      "2566-04-07 09:00:00 12:00:00\n",
      "2566-04-07 09:00:00 12:00:00\n",
      "2566-04-07 09:00:00 12:00:00\n"
     ]
    },
    {
     "data": {
      "text/plain": [
       "True"
      ]
     },
     "execution_count": 42,
     "metadata": {},
     "output_type": "execute_result"
    }
   ],
   "source": [
    "#function check วันเวลาปลายภาค\n",
    "from datetime import date\n",
    "def check_final_day(sub_id,user_id):\n",
    "    conn = sqlite3.connect(\"w3.db\")\n",
    "    c = conn.cursor()\n",
    "\n",
    "    c.execute(\"SELECT testdate.fin_numday ,testdate.fin_starttime,testdate.fin_endtime \"+\n",
    "              \"FROM app_schedule_user_subjects AS user , app_schedule_subjects_info AS info, app_select_subjects_test_date AS testdate \" +\n",
    "              \"WHERE user.user_id_id = ?\"+\n",
    "               \"AND user.sub_id_id = info.ID \" +\n",
    "               \"AND info.code = testdate.code \",(user_id,))  \n",
    "    totalsubject = c.fetchall()\n",
    "    print(totalsubject)\n",
    "\n",
    "    c.execute(\"SELECT testdate.fin_numday ,testdate.fin_starttime,testdate.fin_endtime \"+\n",
    "              \"FROM app_schedule_subjects_info AS info, app_select_subjects_test_date AS testdate \" +\n",
    "              \"WHERE ?= info.ID \" +\n",
    "               \"AND info.code = testdate.code \",(sub_id,))  \n",
    "    subject_select = c.fetchall()\n",
    "    #print(subject_select)\n",
    "\n",
    "\n",
    "    for x  in totalsubject:\n",
    "        sub_selected = x[0].split(\"-\")\n",
    "        year,month,day = int(sub_selected[0]),int(sub_selected[1]),int(sub_selected[2])\n",
    "        #print(year,month,day)\n",
    "        day_subject_selected = date(year,month,day)                                     # day จาก subject ที่ user ได้ select ไปแล้ว\n",
    "        starttime_subject_selected = x[1]                                               # start time จาก subject ที่ user ได้ select ไปแล้ว\n",
    "        endtime_subject_selected = x[2]                                                 # end time จาก subject ที่ user ได้ select ไปแล้ว\n",
    "        #print(day_subject_selected,starttime_subject_selected,endtime_subject_selected)\n",
    "\n",
    "        sub_select = subject_select[0][0].split(\"-\")\n",
    "        year,month,day = int(sub_select[0]),int(sub_select[1]),int(sub_select[2])\n",
    "        day_subject_select = date(year,month,day)                                       # dayจาก subject ที่ user ต้องการ select \n",
    "        starttime_subject_select = subject_select[0][1]                                 # start time จาก subject ที่ user ต้องการ select \n",
    "        endtime_subject_select = subject_select[0][2]                                   # end time จาก subject ที่ user ต้องการ select\n",
    "        print(day_subject_select,starttime_subject_select,endtime_subject_select)\n",
    "\n",
    "        if day_subject_select == day_subject_selected:\n",
    "            if Check_time_Overlapse(starttime_subject_selected,endtime_subject_selected,starttime_subject_select,endtime_subject_select):\n",
    "                return True\n",
    "            else: \n",
    "                return False\n",
    "    return True\n",
    "        \n",
    "\n",
    "check_final_day(592,1)"
   ]
  },
  {
   "attachments": {},
   "cell_type": "markdown",
   "metadata": {},
   "source": [
    "===Not use==="
   ]
  },
  {
   "cell_type": "code",
   "execution_count": 6,
   "metadata": {},
   "outputs": [
    {
     "name": "stdout",
     "output_type": "stream",
     "text": [
      "010113030\n",
      "010123102\n",
      "040203111\n",
      "040313005\n",
      "040313006\n",
      "080103001\n",
      "080303502\n",
      "080303601\n",
      "010113138\n",
      "010113139\n",
      "010123103\n",
      "040003004\n",
      "040203112\n",
      "040313007\n",
      "040313008\n",
      "080103002\n",
      "010123105\n",
      "010123106\n",
      "010123107\n",
      "010123108\n",
      "010123131\n",
      "010123133\n",
      "080103034\n"
     ]
    }
   ],
   "source": [
    "# add 0 front of subject_code\n",
    "import sqlite3\n",
    "user_id = 8\n",
    "conn = sqlite3.connect(\"w3.db\")\n",
    "c = conn.cursor()\n",
    "c.execute(\"SELECT * FROM subjects WHERE UserID = ?\",(user_id,))\n",
    "result = c.fetchall()\n",
    "for a in result:\n",
    "    x = '0'+a[1]\n",
    "    print(x)\n",
    "    c.execute(\"UPDATE subjects SET real_subject_id = ? WHERE UserID = ? AND real_subject_id = ? \",(x,user_id,a[1],))\n",
    "\n",
    "conn.commit()\n",
    "conn.close()"
   ]
  },
  {
   "cell_type": "code",
   "execution_count": 18,
   "metadata": {},
   "outputs": [],
   "source": [
    "from datetime import datetime\n",
    "\n",
    "event1_start = datetime(2023, 3, 10, 14, 0) # March 10th, 2023 at 2:00 PM\n",
    "event1_end = datetime(2023, 3, 10, 16, 0) # March 10th, 2023 at 4:00 PM\n",
    "\n",
    "event2_start = datetime(2023, 3, 10, 16, 0) # March 10th, 2023 at 4:00 PM\n",
    "event2_end = datetime(2023, 3, 10, 17, 0) # March 10th, 2023 at 5:00 PM\n"
   ]
  },
  {
   "cell_type": "code",
   "execution_count": 19,
   "metadata": {},
   "outputs": [],
   "source": [
    "from datetime import datetime\n",
    "\n",
    "event1_start = datetime(2566, 3, 10, 14, 0) # March 10th, 2023 at 2:00 PM\n",
    "event1_end = datetime(2566, 3, 10, 16, 0) # March 10th, 2023 at 4:00 PM\n",
    "\n",
    "event2_start = datetime(2566, 3, 10, 16, 0) # March 10th, 2023 at 4:00 PM\n",
    "event2_end = datetime(2566, 3, 10, 17, 0) # March 10th, 2023 at 5:00 PM\n"
   ]
  },
  {
   "cell_type": "code",
   "execution_count": 20,
   "metadata": {},
   "outputs": [
    {
     "name": "stdout",
     "output_type": "stream",
     "text": [
      "The two events do not overlap.\n"
     ]
    }
   ],
   "source": [
    "#function check วันเวลา\n",
    "def check_time_overlap(event1_start, event1_end, event2_start, event2_end):\n",
    "    if event1_end <= event2_start or event2_end <= event1_start:\n",
    "        return False\n",
    "    else:\n",
    "        return True\n",
    "\n",
    "if check_time_overlap(event1_start, event1_end, event2_start, event2_end):\n",
    "    print(\"The two events overlap.\")\n",
    "else:\n",
    "    print(\"The two events do not overlap.\")\n"
   ]
  },
  {
   "cell_type": "code",
   "execution_count": 23,
   "metadata": {},
   "outputs": [],
   "source": [
    "def Check_time_Overlapse(start_time_1, end_time_1, start_time_2, end_time_2):\n",
    "    # Convert the time strings to datetime objects\n",
    "    start_1 = datetime.strptime(start_time_1, '%H:%M:%S')\n",
    "    end_1 = datetime.strptime(end_time_1, '%H:%M:%S')\n",
    "    start_2 = datetime.strptime(start_time_2, '%H:%M:%S')\n",
    "    end_2 = datetime.strptime(end_time_2, '%H:%M:%S')\n",
    "    \n",
    "    # Check for collision\n",
    "    if start_1 >= end_2 and start_2 >= end_1:\n",
    "        return True\n",
    "    else:\n",
    "        return False\n"
   ]
  },
  {
   "cell_type": "code",
   "execution_count": 28,
   "metadata": {},
   "outputs": [
    {
     "data": {
      "text/plain": [
       "False"
      ]
     },
     "execution_count": 28,
     "metadata": {},
     "output_type": "execute_result"
    }
   ],
   "source": [
    "#Check_time_Overlapse(\"9:30:00\",\"11:20:00\",\"9:45:00\",\"15:50:00\")\n",
    "Check_time_Overlapse(\"13:00:00\",\"13:30:00\",\"13:50:00\",\"14:00:00\")"
   ]
  }
 ],
 "metadata": {
  "kernelspec": {
   "display_name": "base",
   "language": "python",
   "name": "python3"
  },
  "language_info": {
   "codemirror_mode": {
    "name": "ipython",
    "version": 3
   },
   "file_extension": ".py",
   "mimetype": "text/x-python",
   "name": "python",
   "nbconvert_exporter": "python",
   "pygments_lexer": "ipython3",
   "version": "3.8.8"
  },
  "orig_nbformat": 4
 },
 "nbformat": 4,
 "nbformat_minor": 2
}
